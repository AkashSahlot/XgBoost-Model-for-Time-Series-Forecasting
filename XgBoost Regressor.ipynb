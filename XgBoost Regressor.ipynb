{
 "cells": [
  {
   "cell_type": "code",
   "execution_count": 1,
   "id": "80feda6d",
   "metadata": {},
   "outputs": [],
   "source": [
    "# Importing the dependencies\n",
    "import numpy as np\n",
    "import pandas as pd\n",
    "from xgboost import plot_importance, plot_tree\n",
    "import xgboost as xgb\n",
    "import matplotlib.pyplot as plt\n",
    "from sklearn.metrics import r2_score, mean_absolute_error, mean_squared_error\n",
    "from sklearn.model_selection import GridSearchCV\n",
    "import seaborn as sns\n",
    "sns.set_style(\"whitegrid\")\n",
    "plt.rcParams[\"figure.figsize\"]\n",
    "plt.style.use(\"tableau-colorblind10\")"
   ]
  },
  {
   "cell_type": "code",
   "execution_count": 2,
   "id": "4c26ac3a",
   "metadata": {},
   "outputs": [
    {
     "data": {
      "text/html": [
       "<div>\n",
       "<style scoped>\n",
       "    .dataframe tbody tr th:only-of-type {\n",
       "        vertical-align: middle;\n",
       "    }\n",
       "\n",
       "    .dataframe tbody tr th {\n",
       "        vertical-align: top;\n",
       "    }\n",
       "\n",
       "    .dataframe thead th {\n",
       "        text-align: right;\n",
       "    }\n",
       "</style>\n",
       "<table border=\"1\" class=\"dataframe\">\n",
       "  <thead>\n",
       "    <tr style=\"text-align: right;\">\n",
       "      <th></th>\n",
       "      <th>Date</th>\n",
       "      <th>hour</th>\n",
       "      <th>power</th>\n",
       "      <th>temperature</th>\n",
       "      <th>variable2</th>\n",
       "    </tr>\n",
       "  </thead>\n",
       "  <tbody>\n",
       "    <tr>\n",
       "      <th>0</th>\n",
       "      <td>2017-02-01</td>\n",
       "      <td>00:00:00</td>\n",
       "      <td>44949.0</td>\n",
       "      <td>10.100000</td>\n",
       "      <td>65589</td>\n",
       "    </tr>\n",
       "    <tr>\n",
       "      <th>1</th>\n",
       "      <td>2017-02-01</td>\n",
       "      <td>01:00:00</td>\n",
       "      <td>44216.0</td>\n",
       "      <td>9.933333</td>\n",
       "      <td>61265</td>\n",
       "    </tr>\n",
       "    <tr>\n",
       "      <th>2</th>\n",
       "      <td>2017-02-01</td>\n",
       "      <td>02:00:00</td>\n",
       "      <td>43515.0</td>\n",
       "      <td>9.766667</td>\n",
       "      <td>60065</td>\n",
       "    </tr>\n",
       "    <tr>\n",
       "      <th>3</th>\n",
       "      <td>2017-02-01</td>\n",
       "      <td>03:00:00</td>\n",
       "      <td>43619.0</td>\n",
       "      <td>9.600000</td>\n",
       "      <td>57757</td>\n",
       "    </tr>\n",
       "    <tr>\n",
       "      <th>4</th>\n",
       "      <td>2017-02-01</td>\n",
       "      <td>04:00:00</td>\n",
       "      <td>44944.0</td>\n",
       "      <td>9.300000</td>\n",
       "      <td>55883</td>\n",
       "    </tr>\n",
       "  </tbody>\n",
       "</table>\n",
       "</div>"
      ],
      "text/plain": [
       "        Date      hour    power  temperature  variable2\n",
       "0 2017-02-01  00:00:00  44949.0    10.100000      65589\n",
       "1 2017-02-01  01:00:00  44216.0     9.933333      61265\n",
       "2 2017-02-01  02:00:00  43515.0     9.766667      60065\n",
       "3 2017-02-01  03:00:00  43619.0     9.600000      57757\n",
       "4 2017-02-01  04:00:00  44944.0     9.300000      55883"
      ]
     },
     "execution_count": 2,
     "metadata": {},
     "output_type": "execute_result"
    }
   ],
   "source": [
    "# Loading the dataset\n",
    "df = pd.read_excel(\"/home/akash/Downloads/template_presage/test3.xlsx\")\n",
    "df.head()"
   ]
  },
  {
   "cell_type": "markdown",
   "id": "95bcb6ab",
   "metadata": {},
   "source": [
    "# EDA"
   ]
  },
  {
   "cell_type": "code",
   "execution_count": 3,
   "id": "19b60fa9",
   "metadata": {},
   "outputs": [
    {
     "data": {
      "text/plain": [
       "(1008, 5)"
      ]
     },
     "execution_count": 3,
     "metadata": {},
     "output_type": "execute_result"
    }
   ],
   "source": [
    "# Lets see the shape of the dataset\n",
    "df.shape"
   ]
  },
  {
   "cell_type": "code",
   "execution_count": 4,
   "id": "f517075a",
   "metadata": {},
   "outputs": [
    {
     "name": "stdout",
     "output_type": "stream",
     "text": [
      "<class 'pandas.core.frame.DataFrame'>\n",
      "RangeIndex: 1008 entries, 0 to 1007\n",
      "Data columns (total 5 columns):\n",
      " #   Column       Non-Null Count  Dtype         \n",
      "---  ------       --------------  -----         \n",
      " 0   Date         1008 non-null   datetime64[ns]\n",
      " 1   hour         1008 non-null   object        \n",
      " 2   power        840 non-null    float64       \n",
      " 3   temperature  1008 non-null   float64       \n",
      " 4   variable2    1008 non-null   int64         \n",
      "dtypes: datetime64[ns](1), float64(2), int64(1), object(1)\n",
      "memory usage: 39.5+ KB\n"
     ]
    }
   ],
   "source": [
    "# Lets see the dataset information\n",
    "df.info()"
   ]
  },
  {
   "cell_type": "code",
   "execution_count": 5,
   "id": "02204e2f",
   "metadata": {},
   "outputs": [
    {
     "data": {
      "text/plain": [
       "Date             0\n",
       "hour             0\n",
       "power          168\n",
       "temperature      0\n",
       "variable2        0\n",
       "dtype: int64"
      ]
     },
     "execution_count": 5,
     "metadata": {},
     "output_type": "execute_result"
    }
   ],
   "source": [
    "# null values\n",
    "df.isnull().sum()"
   ]
  },
  {
   "cell_type": "code",
   "execution_count": 6,
   "id": "85aab17d",
   "metadata": {},
   "outputs": [],
   "source": [
    "df['power']=df['power'].replace(np.nan,df['power'].mean())"
   ]
  },
  {
   "cell_type": "code",
   "execution_count": 7,
   "id": "eafcd41c",
   "metadata": {},
   "outputs": [
    {
     "name": "stderr",
     "output_type": "stream",
     "text": [
      "/tmp/ipykernel_26496/1575396700.py:10: FutureWarning: Series.dt.weekofyear and Series.dt.week have been deprecated. Please use Series.dt.isocalendar().week instead.\n",
      "  df[\"weekofyear\"] = df[\"Date\"].dt.weekofyear\n"
     ]
    }
   ],
   "source": [
    "# Feature Extraction\n",
    "df[\"Day\"] = df[\"Date\"].dt.day\n",
    "df[\"hour\"] = df[\"Date\"].dt.hour\n",
    "df[\"dayofweek\"] = df[\"Date\"].dt.dayofweek\n",
    "df[\"quarter\"] = df[\"Date\"].dt.quarter\n",
    "df[\"month\"] = df[\"Date\"].dt.month\n",
    "df[\"year\"] = df[\"Date\"].dt.year\n",
    "df[\"dayofyear\"] = df[\"Date\"].dt.dayofyear\n",
    "df[\"dayofmonth\"] = df[\"Date\"].dt.day\n",
    "df[\"weekofyear\"] = df[\"Date\"].dt.weekofyear"
   ]
  },
  {
   "cell_type": "code",
   "execution_count": 8,
   "id": "13285723",
   "metadata": {},
   "outputs": [
    {
     "data": {
      "text/html": [
       "<div>\n",
       "<style scoped>\n",
       "    .dataframe tbody tr th:only-of-type {\n",
       "        vertical-align: middle;\n",
       "    }\n",
       "\n",
       "    .dataframe tbody tr th {\n",
       "        vertical-align: top;\n",
       "    }\n",
       "\n",
       "    .dataframe thead th {\n",
       "        text-align: right;\n",
       "    }\n",
       "</style>\n",
       "<table border=\"1\" class=\"dataframe\">\n",
       "  <thead>\n",
       "    <tr style=\"text-align: right;\">\n",
       "      <th></th>\n",
       "      <th>Date</th>\n",
       "      <th>hour</th>\n",
       "      <th>power</th>\n",
       "      <th>temperature</th>\n",
       "      <th>variable2</th>\n",
       "      <th>Day</th>\n",
       "      <th>dayofweek</th>\n",
       "      <th>quarter</th>\n",
       "      <th>month</th>\n",
       "      <th>year</th>\n",
       "      <th>dayofyear</th>\n",
       "      <th>dayofmonth</th>\n",
       "      <th>weekofyear</th>\n",
       "    </tr>\n",
       "  </thead>\n",
       "  <tbody>\n",
       "    <tr>\n",
       "      <th>0</th>\n",
       "      <td>2017-02-01</td>\n",
       "      <td>0</td>\n",
       "      <td>44949.0</td>\n",
       "      <td>10.100000</td>\n",
       "      <td>65589</td>\n",
       "      <td>1</td>\n",
       "      <td>2</td>\n",
       "      <td>1</td>\n",
       "      <td>2</td>\n",
       "      <td>2017</td>\n",
       "      <td>32</td>\n",
       "      <td>1</td>\n",
       "      <td>5</td>\n",
       "    </tr>\n",
       "    <tr>\n",
       "      <th>1</th>\n",
       "      <td>2017-02-01</td>\n",
       "      <td>0</td>\n",
       "      <td>44216.0</td>\n",
       "      <td>9.933333</td>\n",
       "      <td>61265</td>\n",
       "      <td>1</td>\n",
       "      <td>2</td>\n",
       "      <td>1</td>\n",
       "      <td>2</td>\n",
       "      <td>2017</td>\n",
       "      <td>32</td>\n",
       "      <td>1</td>\n",
       "      <td>5</td>\n",
       "    </tr>\n",
       "    <tr>\n",
       "      <th>2</th>\n",
       "      <td>2017-02-01</td>\n",
       "      <td>0</td>\n",
       "      <td>43515.0</td>\n",
       "      <td>9.766667</td>\n",
       "      <td>60065</td>\n",
       "      <td>1</td>\n",
       "      <td>2</td>\n",
       "      <td>1</td>\n",
       "      <td>2</td>\n",
       "      <td>2017</td>\n",
       "      <td>32</td>\n",
       "      <td>1</td>\n",
       "      <td>5</td>\n",
       "    </tr>\n",
       "    <tr>\n",
       "      <th>3</th>\n",
       "      <td>2017-02-01</td>\n",
       "      <td>0</td>\n",
       "      <td>43619.0</td>\n",
       "      <td>9.600000</td>\n",
       "      <td>57757</td>\n",
       "      <td>1</td>\n",
       "      <td>2</td>\n",
       "      <td>1</td>\n",
       "      <td>2</td>\n",
       "      <td>2017</td>\n",
       "      <td>32</td>\n",
       "      <td>1</td>\n",
       "      <td>5</td>\n",
       "    </tr>\n",
       "    <tr>\n",
       "      <th>4</th>\n",
       "      <td>2017-02-01</td>\n",
       "      <td>0</td>\n",
       "      <td>44944.0</td>\n",
       "      <td>9.300000</td>\n",
       "      <td>55883</td>\n",
       "      <td>1</td>\n",
       "      <td>2</td>\n",
       "      <td>1</td>\n",
       "      <td>2</td>\n",
       "      <td>2017</td>\n",
       "      <td>32</td>\n",
       "      <td>1</td>\n",
       "      <td>5</td>\n",
       "    </tr>\n",
       "  </tbody>\n",
       "</table>\n",
       "</div>"
      ],
      "text/plain": [
       "        Date  hour    power  temperature  variable2  Day  dayofweek  quarter  \\\n",
       "0 2017-02-01     0  44949.0    10.100000      65589    1          2        1   \n",
       "1 2017-02-01     0  44216.0     9.933333      61265    1          2        1   \n",
       "2 2017-02-01     0  43515.0     9.766667      60065    1          2        1   \n",
       "3 2017-02-01     0  43619.0     9.600000      57757    1          2        1   \n",
       "4 2017-02-01     0  44944.0     9.300000      55883    1          2        1   \n",
       "\n",
       "   month  year  dayofyear  dayofmonth  weekofyear  \n",
       "0      2  2017         32           1           5  \n",
       "1      2  2017         32           1           5  \n",
       "2      2  2017         32           1           5  \n",
       "3      2  2017         32           1           5  \n",
       "4      2  2017         32           1           5  "
      ]
     },
     "execution_count": 8,
     "metadata": {},
     "output_type": "execute_result"
    }
   ],
   "source": [
    "# data\n",
    "df.head()"
   ]
  },
  {
   "cell_type": "code",
   "execution_count": 9,
   "id": "234db077",
   "metadata": {},
   "outputs": [],
   "source": [
    "# dropping the unwanted features\n",
    "df = df.drop(['hour'], axis = 1)"
   ]
  },
  {
   "cell_type": "code",
   "execution_count": 10,
   "id": "8a4ea4d1",
   "metadata": {},
   "outputs": [
    {
     "data": {
      "text/html": [
       "<div>\n",
       "<style scoped>\n",
       "    .dataframe tbody tr th:only-of-type {\n",
       "        vertical-align: middle;\n",
       "    }\n",
       "\n",
       "    .dataframe tbody tr th {\n",
       "        vertical-align: top;\n",
       "    }\n",
       "\n",
       "    .dataframe thead th {\n",
       "        text-align: right;\n",
       "    }\n",
       "</style>\n",
       "<table border=\"1\" class=\"dataframe\">\n",
       "  <thead>\n",
       "    <tr style=\"text-align: right;\">\n",
       "      <th></th>\n",
       "      <th>Date</th>\n",
       "      <th>power</th>\n",
       "      <th>temperature</th>\n",
       "      <th>variable2</th>\n",
       "      <th>Day</th>\n",
       "      <th>dayofweek</th>\n",
       "      <th>quarter</th>\n",
       "      <th>month</th>\n",
       "      <th>year</th>\n",
       "      <th>dayofyear</th>\n",
       "      <th>dayofmonth</th>\n",
       "      <th>weekofyear</th>\n",
       "    </tr>\n",
       "  </thead>\n",
       "  <tbody>\n",
       "    <tr>\n",
       "      <th>0</th>\n",
       "      <td>2017-02-01</td>\n",
       "      <td>44949.0</td>\n",
       "      <td>10.100000</td>\n",
       "      <td>65589</td>\n",
       "      <td>1</td>\n",
       "      <td>2</td>\n",
       "      <td>1</td>\n",
       "      <td>2</td>\n",
       "      <td>2017</td>\n",
       "      <td>32</td>\n",
       "      <td>1</td>\n",
       "      <td>5</td>\n",
       "    </tr>\n",
       "    <tr>\n",
       "      <th>1</th>\n",
       "      <td>2017-02-01</td>\n",
       "      <td>44216.0</td>\n",
       "      <td>9.933333</td>\n",
       "      <td>61265</td>\n",
       "      <td>1</td>\n",
       "      <td>2</td>\n",
       "      <td>1</td>\n",
       "      <td>2</td>\n",
       "      <td>2017</td>\n",
       "      <td>32</td>\n",
       "      <td>1</td>\n",
       "      <td>5</td>\n",
       "    </tr>\n",
       "    <tr>\n",
       "      <th>2</th>\n",
       "      <td>2017-02-01</td>\n",
       "      <td>43515.0</td>\n",
       "      <td>9.766667</td>\n",
       "      <td>60065</td>\n",
       "      <td>1</td>\n",
       "      <td>2</td>\n",
       "      <td>1</td>\n",
       "      <td>2</td>\n",
       "      <td>2017</td>\n",
       "      <td>32</td>\n",
       "      <td>1</td>\n",
       "      <td>5</td>\n",
       "    </tr>\n",
       "    <tr>\n",
       "      <th>3</th>\n",
       "      <td>2017-02-01</td>\n",
       "      <td>43619.0</td>\n",
       "      <td>9.600000</td>\n",
       "      <td>57757</td>\n",
       "      <td>1</td>\n",
       "      <td>2</td>\n",
       "      <td>1</td>\n",
       "      <td>2</td>\n",
       "      <td>2017</td>\n",
       "      <td>32</td>\n",
       "      <td>1</td>\n",
       "      <td>5</td>\n",
       "    </tr>\n",
       "    <tr>\n",
       "      <th>4</th>\n",
       "      <td>2017-02-01</td>\n",
       "      <td>44944.0</td>\n",
       "      <td>9.300000</td>\n",
       "      <td>55883</td>\n",
       "      <td>1</td>\n",
       "      <td>2</td>\n",
       "      <td>1</td>\n",
       "      <td>2</td>\n",
       "      <td>2017</td>\n",
       "      <td>32</td>\n",
       "      <td>1</td>\n",
       "      <td>5</td>\n",
       "    </tr>\n",
       "  </tbody>\n",
       "</table>\n",
       "</div>"
      ],
      "text/plain": [
       "        Date    power  temperature  variable2  Day  dayofweek  quarter  month  \\\n",
       "0 2017-02-01  44949.0    10.100000      65589    1          2        1      2   \n",
       "1 2017-02-01  44216.0     9.933333      61265    1          2        1      2   \n",
       "2 2017-02-01  43515.0     9.766667      60065    1          2        1      2   \n",
       "3 2017-02-01  43619.0     9.600000      57757    1          2        1      2   \n",
       "4 2017-02-01  44944.0     9.300000      55883    1          2        1      2   \n",
       "\n",
       "   year  dayofyear  dayofmonth  weekofyear  \n",
       "0  2017         32           1           5  \n",
       "1  2017         32           1           5  \n",
       "2  2017         32           1           5  \n",
       "3  2017         32           1           5  \n",
       "4  2017         32           1           5  "
      ]
     },
     "execution_count": 10,
     "metadata": {},
     "output_type": "execute_result"
    }
   ],
   "source": [
    "df.head()"
   ]
  },
  {
   "cell_type": "code",
   "execution_count": 11,
   "id": "5b932e65",
   "metadata": {},
   "outputs": [
    {
     "name": "stdout",
     "output_type": "stream",
     "text": [
      "<class 'pandas.core.frame.DataFrame'>\n",
      "RangeIndex: 1008 entries, 0 to 1007\n",
      "Data columns (total 12 columns):\n",
      " #   Column       Non-Null Count  Dtype         \n",
      "---  ------       --------------  -----         \n",
      " 0   Date         1008 non-null   datetime64[ns]\n",
      " 1   power        1008 non-null   float64       \n",
      " 2   temperature  1008 non-null   float64       \n",
      " 3   variable2    1008 non-null   int64         \n",
      " 4   Day          1008 non-null   int64         \n",
      " 5   dayofweek    1008 non-null   int64         \n",
      " 6   quarter      1008 non-null   int64         \n",
      " 7   month        1008 non-null   int64         \n",
      " 8   year         1008 non-null   int64         \n",
      " 9   dayofyear    1008 non-null   int64         \n",
      " 10  dayofmonth   1008 non-null   int64         \n",
      " 11  weekofyear   1008 non-null   int64         \n",
      "dtypes: datetime64[ns](1), float64(2), int64(9)\n",
      "memory usage: 94.6 KB\n"
     ]
    }
   ],
   "source": [
    "df.info()"
   ]
  },
  {
   "cell_type": "code",
   "execution_count": 12,
   "id": "ac580546",
   "metadata": {},
   "outputs": [
    {
     "data": {
      "text/plain": [
       "array([ 1,  2,  3,  4,  5,  6,  7,  8,  9, 10, 11, 12, 13, 14, 15, 16, 17,\n",
       "       18, 19, 20, 21, 22, 23, 24, 25, 26, 27, 28])"
      ]
     },
     "execution_count": 12,
     "metadata": {},
     "output_type": "execute_result"
    }
   ],
   "source": [
    "# Lets see the unique values in the feature \"Day\"\n",
    "df[\"Day\"].unique()"
   ]
  },
  {
   "cell_type": "code",
   "execution_count": 13,
   "id": "4d07ca4c",
   "metadata": {},
   "outputs": [],
   "source": [
    "# Train and test data\n",
    "df_train = df[df[\"Day\"] < 22]\n",
    "df_test = df[df[\"Day\"] >= 22]\n"
   ]
  },
  {
   "cell_type": "code",
   "execution_count": 14,
   "id": "e5787a4b",
   "metadata": {},
   "outputs": [],
   "source": [
    "df_train=df_train.drop(['Date'], axis=1)"
   ]
  },
  {
   "cell_type": "code",
   "execution_count": 15,
   "id": "a4bde197",
   "metadata": {},
   "outputs": [],
   "source": [
    "df_test=df_test.drop(['Date'], axis=1)"
   ]
  },
  {
   "cell_type": "markdown",
   "id": "e67cb974",
   "metadata": {},
   "source": [
    "# Train test split"
   ]
  },
  {
   "cell_type": "code",
   "execution_count": 16,
   "id": "4db616ff",
   "metadata": {},
   "outputs": [],
   "source": [
    "X_train = df_train.drop([\"power\"], axis = 1)\n",
    "y_train = df_train[\"power\"]\n",
    "X_test = df_test.drop([\"power\"], axis = 1)\n",
    "y_test = df_test[\"power\"]"
   ]
  },
  {
   "cell_type": "code",
   "execution_count": 17,
   "id": "e5bfcdd4",
   "metadata": {},
   "outputs": [
    {
     "name": "stdout",
     "output_type": "stream",
     "text": [
      "(840, 10) (168, 10)\n",
      "(840,) (168,)\n"
     ]
    }
   ],
   "source": [
    "# Lets see the shapes of the train and test data\n",
    "print(X_train.shape, X_test.shape)\n",
    "print(y_train.shape, y_test.shape)"
   ]
  },
  {
   "cell_type": "markdown",
   "id": "fb98758c",
   "metadata": {},
   "source": [
    "# Model Training"
   ]
  },
  {
   "cell_type": "code",
   "execution_count": 18,
   "id": "63a97f2f",
   "metadata": {},
   "outputs": [
    {
     "data": {
      "text/plain": [
       "XGBRegressor(base_score=None, booster=None, callbacks=None,\n",
       "             colsample_bylevel=None, colsample_bynode=None,\n",
       "             colsample_bytree=None, early_stopping_rounds=None,\n",
       "             enable_categorical=False, eval_metric=None, feature_types=None,\n",
       "             gamma=None, gpu_id=None, grow_policy=None, importance_type=None,\n",
       "             interaction_constraints=None, learning_rate=0.001, max_bin=None,\n",
       "             max_cat_threshold=None, max_cat_to_onehot=None,\n",
       "             max_delta_step=None, max_depth=None, max_leaves=None,\n",
       "             min_child_weight=None, missing=nan, monotone_constraints=None,\n",
       "             n_estimators=1000, n_jobs=None, num_parallel_tree=None,\n",
       "             predictor=None, random_state=0, ...)"
      ]
     },
     "execution_count": 18,
     "metadata": {},
     "output_type": "execute_result"
    }
   ],
   "source": [
    "\n",
    "reg = xgb.XGBRegressor(objective = \"reg:squarederror\", n_estimators = 1000, learning_rate=1e-3, random_state=0)\n",
    "reg.fit(X_train, y_train, verbose = True)"
   ]
  },
  {
   "cell_type": "code",
   "execution_count": 19,
   "id": "acc3bca1",
   "metadata": {},
   "outputs": [
    {
     "name": "stdout",
     "output_type": "stream",
     "text": [
      "[33618.402 30118.396 30118.396 30118.396 30118.396 29885.225 29619.008\n",
      " 32589.121 36265.793 38470.66  38678.598 38678.598 38987.816 38678.598\n",
      " 36287.53  34870.99  34870.99  33483.008 33618.402 39548.445 38987.816\n",
      " 33618.402 32689.84  31520.055 31520.055 28750.406 28750.406 28750.406\n",
      " 28750.406 28750.406 28750.406 28816.01  36353.426 37950.457 38987.816\n",
      " 38987.816 38987.816 38678.598 36265.793 33618.402 33618.402 33618.402\n",
      " 28816.01  39550.957 37950.457 28816.01  28582.93  28582.93  28476.16\n",
      " 28476.16  28476.16  28476.16  28476.16  28476.16  28476.16  28476.16\n",
      " 32963.85  36465.297 37805.8   37805.8   37950.457 37950.457 32472.781\n",
      " 28816.01  28816.01  28582.93  28476.16  37661.902 34897.773 30016.63\n",
      " 28476.16  32963.85  25265.477 24267.588 24267.588 24267.588 24267.588\n",
      " 24267.588 24267.588 24267.588 24267.588 24267.588 24931.24  24267.588\n",
      " 24267.588 24197.371 24109.322 24109.322 24109.322 24267.588 24267.588\n",
      " 24267.588 24267.588 24267.588 24267.588 24267.588 24072.205 24072.205\n",
      " 24072.205 24072.205 24072.205 24072.205 24072.205 24072.205 24072.205\n",
      " 24072.205 24072.205 24072.205 24109.322 24109.322 24166.662 24166.662\n",
      " 24166.662 24166.662 24166.662 24197.371 24197.371 24109.322 24109.322\n",
      " 24109.322 32689.84  30118.396 30118.396 30118.396 30118.396 30118.396\n",
      " 30118.396 33618.402 36265.793 38678.598 38987.816 38678.598 38987.816\n",
      " 38987.816 36571.613 32472.781 28816.01  28816.01  32098.008 39550.957\n",
      " 39550.957 30684.89  28476.16  30016.63  29878.635 28476.16  28476.16\n",
      " 28476.16  28476.16  28476.16  28476.16  32963.85  38996.863 38996.863\n",
      " 38996.863 38996.863 39427.188 39550.957 39550.957 37950.457 36426.957\n",
      " 33547.11  33312.582 38996.863 38996.863 34897.773 30016.63  34897.773]\n"
     ]
    }
   ],
   "source": [
    "# Prediction\n",
    "yhat = reg.predict(X_test)\n",
    "print(yhat)"
   ]
  },
  {
   "cell_type": "code",
   "execution_count": 20,
   "id": "2c0ad9d5",
   "metadata": {},
   "outputs": [
    {
     "data": {
      "text/plain": [
       "168"
      ]
     },
     "execution_count": 20,
     "metadata": {},
     "output_type": "execute_result"
    }
   ],
   "source": [
    "len(yhat)"
   ]
  },
  {
   "cell_type": "code",
   "execution_count": 21,
   "id": "f01429bd",
   "metadata": {},
   "outputs": [
    {
     "name": "stdout",
     "output_type": "stream",
     "text": [
      "RMSE: 20022.555896\n"
     ]
    }
   ],
   "source": [
    "# Model Evaluation\n",
    "from sklearn.metrics import mean_squared_error as MSE\n",
    "rmse = np.sqrt(MSE(y_test, yhat))\n",
    "print(\"RMSE: %f\" %(rmse))"
   ]
  },
  {
   "cell_type": "code",
   "execution_count": 22,
   "id": "f2f86186",
   "metadata": {},
   "outputs": [],
   "source": [
    "pd.DataFrame(yhat).to_excel(\"XgBoost result.xlsx\", sheet_name=\"sheet_1\")"
   ]
  },
  {
   "cell_type": "code",
   "execution_count": 23,
   "id": "63d68d8c",
   "metadata": {},
   "outputs": [
    {
     "data": {
      "text/html": [
       "<div>\n",
       "<style scoped>\n",
       "    .dataframe tbody tr th:only-of-type {\n",
       "        vertical-align: middle;\n",
       "    }\n",
       "\n",
       "    .dataframe tbody tr th {\n",
       "        vertical-align: top;\n",
       "    }\n",
       "\n",
       "    .dataframe thead th {\n",
       "        text-align: right;\n",
       "    }\n",
       "</style>\n",
       "<table border=\"1\" class=\"dataframe\">\n",
       "  <thead>\n",
       "    <tr style=\"text-align: right;\">\n",
       "      <th></th>\n",
       "      <th>Unnamed: 0</th>\n",
       "      <th>0</th>\n",
       "    </tr>\n",
       "  </thead>\n",
       "  <tbody>\n",
       "    <tr>\n",
       "      <th>0</th>\n",
       "      <td>0</td>\n",
       "      <td>33618.402344</td>\n",
       "    </tr>\n",
       "    <tr>\n",
       "      <th>1</th>\n",
       "      <td>1</td>\n",
       "      <td>30118.396484</td>\n",
       "    </tr>\n",
       "    <tr>\n",
       "      <th>2</th>\n",
       "      <td>2</td>\n",
       "      <td>30118.396484</td>\n",
       "    </tr>\n",
       "    <tr>\n",
       "      <th>3</th>\n",
       "      <td>3</td>\n",
       "      <td>30118.396484</td>\n",
       "    </tr>\n",
       "    <tr>\n",
       "      <th>4</th>\n",
       "      <td>4</td>\n",
       "      <td>30118.396484</td>\n",
       "    </tr>\n",
       "    <tr>\n",
       "      <th>...</th>\n",
       "      <td>...</td>\n",
       "      <td>...</td>\n",
       "    </tr>\n",
       "    <tr>\n",
       "      <th>163</th>\n",
       "      <td>163</td>\n",
       "      <td>38996.863281</td>\n",
       "    </tr>\n",
       "    <tr>\n",
       "      <th>164</th>\n",
       "      <td>164</td>\n",
       "      <td>38996.863281</td>\n",
       "    </tr>\n",
       "    <tr>\n",
       "      <th>165</th>\n",
       "      <td>165</td>\n",
       "      <td>34897.773438</td>\n",
       "    </tr>\n",
       "    <tr>\n",
       "      <th>166</th>\n",
       "      <td>166</td>\n",
       "      <td>30016.630859</td>\n",
       "    </tr>\n",
       "    <tr>\n",
       "      <th>167</th>\n",
       "      <td>167</td>\n",
       "      <td>34897.773438</td>\n",
       "    </tr>\n",
       "  </tbody>\n",
       "</table>\n",
       "<p>168 rows × 2 columns</p>\n",
       "</div>"
      ],
      "text/plain": [
       "     Unnamed: 0             0\n",
       "0             0  33618.402344\n",
       "1             1  30118.396484\n",
       "2             2  30118.396484\n",
       "3             3  30118.396484\n",
       "4             4  30118.396484\n",
       "..          ...           ...\n",
       "163         163  38996.863281\n",
       "164         164  38996.863281\n",
       "165         165  34897.773438\n",
       "166         166  30016.630859\n",
       "167         167  34897.773438\n",
       "\n",
       "[168 rows x 2 columns]"
      ]
     },
     "execution_count": 23,
     "metadata": {},
     "output_type": "execute_result"
    }
   ],
   "source": [
    "result=pd.read_excel(\"/home/akash/XgBoost result.xlsx\")\n",
    "result"
   ]
  },
  {
   "cell_type": "code",
   "execution_count": 24,
   "id": "8d5de8f2",
   "metadata": {},
   "outputs": [
    {
     "data": {
      "image/png": "[encoded data removed]",
      "text/plain": [
       "<Figure size 640x480 with 1 Axes>"
      ]
     },
     "metadata": {},
     "output_type": "display_data"
    }
   ],
   "source": [
    "# Lets plot the actual vs predicted values\n",
    "plt.plot(y_test.values, label = \"Original\")\n",
    "plt.plot(yhat, label = \"Predicted\", color = \"red\")\n",
    "plt.legend();"
   ]
  },
  {
   "cell_type": "code",
   "execution_count": 25,
   "id": "d4876738",
   "metadata": {},
   "outputs": [
    {
     "name": "stdout",
     "output_type": "stream",
     "text": [
      "0.6472141052699266\n"
     ]
    }
   ],
   "source": [
    "# Hyper parameter optimization\n",
    "params = {\n",
    "    'min_child_weight': [4, 5],\n",
    "    'gamma': [i / 10.0 for i in range(3, 6)],\n",
    "    'subsample': [i / 10.0 for i in range(6, 11)],\n",
    "    'colsample_bytree': [i / 10.0 for i in range(6, 11)],\n",
    "    'max_depth': [2, 3, 4]\n",
    "}\n",
    "# Initialize XGB and GridSearch\n",
    "xgb_reg = xgb.XGBRegressor(nthread=-1, objective='reg:squarederror')\n",
    "grid = GridSearchCV(xgb_reg, params)\n",
    "grid.fit(X_train, y_train)\n",
    "gridcv_xgb = grid.best_estimator_\n",
    "print(r2_score(y_test, gridcv_xgb.predict(X_test)))"
   ]
  },
  {
   "cell_type": "code",
   "execution_count": 26,
   "id": "2e7bdaac",
   "metadata": {},
   "outputs": [
    {
     "data": {
      "image/png": "[encoded data removed]",
      "text/plain": [
       "<Figure size 640x480 with 1 Axes>"
      ]
     },
     "metadata": {},
     "output_type": "display_data"
    }
   ],
   "source": [
    "# Feature importance\n",
    "_ = plot_importance(gridcv_xgb, height=1.5)"
   ]
  },
  {
   "cell_type": "code",
   "execution_count": 27,
   "id": "dc5d8529",
   "metadata": {},
   "outputs": [],
   "source": [
    "# Prediction\n",
    "yhat1 = grid.predict(X_test)"
   ]
  },
  {
   "cell_type": "code",
   "execution_count": 28,
   "id": "8d575b5b",
   "metadata": {},
   "outputs": [
    {
     "data": {
      "text/plain": [
       "array([54956.195, 47825.44 , 47495.45 , 47495.45 , 47495.45 , 46171.824,\n",
       "       45968.656, 53632.57 , 62002.35 , 64538.81 , 64422.5  , 61892.56 ,\n",
       "       66750.38 , 64221.55 , 59104.3  , 58249.152, 55626.74 , 46967.016,\n",
       "       54099.805, 66253.99 , 67319.78 , 56398.016, 50328.11 , 55074.39 ,\n",
       "       55070.375, 48066.5  , 46167.81 , 43838.832, 43789.38 , 43789.38 ,\n",
       "       43789.38 , 52691.945, 60832.734, 65992.15 , 65992.15 , 65992.15 ,\n",
       "       67857.75 , 65247.75 , 60642.098, 55818.37 , 55494.168, 53334.918,\n",
       "       55070.375, 67610.805, 63613.727, 52731.33 , 48009.46 , 52911.89 ,\n",
       "       50603.082, 43752.145, 42113.523, 42123.855, 42123.855, 41647.883,\n",
       "       41977.875, 50438.71 , 55761.94 , 59200.566, 61404.516, 62743.703,\n",
       "       63613.727, 61254.957, 56398.05 , 52691.945, 50380.1  , 48130.23 ,\n",
       "       50187.633, 60872.215, 57158.72 , 51281.082, 50425.934, 53511.266,\n",
       "       45474.15 , 44055.395, 41896.145, 39081.05 , 37182.36 , 37182.36 ,\n",
       "       39081.05 , 39519.8  , 42543.934, 43714.57 , 45066.355, 45076.703,\n",
       "       48325.156, 50190.773, 43348.637, 35458.277, 41288.207, 39422.59 ,\n",
       "       39422.59 , 45946.727, 45076.703, 40056.934, 37387.92 , 44121.402,\n",
       "       42725.516, 36471.09 , 35925.414, 34232.074, 34232.074, 34232.074,\n",
       "       34232.074, 34232.074, 33380.82 , 33475.6  , 36038.965, 38622.746,\n",
       "       40488.363, 38962.383, 36931.227, 39260.215, 39260.215, 39260.215,\n",
       "       36931.227, 36571.42 , 37899.5  , 38190.152, 38947.613, 41260.594,\n",
       "       49752.01 , 46919.35 , 46919.35 , 46919.35 , 46919.35 , 46919.35 ,\n",
       "       46919.35 , 56316.164, 60293.457, 64611.832, 67867.07 , 59925.02 ,\n",
       "       59903.33 , 67509.125, 63201.344, 57056.85 , 52721.508, 52721.508,\n",
       "       56186.83 , 68957.07 , 67295.68 , 52093.324, 49026.23 , 54061.48 ,\n",
       "       51630.58 , 44991.047, 44438.   , 41935.332, 41605.34 , 41605.34 ,\n",
       "       44438.   , 56349.18 , 63077.812, 66887.34 , 64471.305, 64471.305,\n",
       "       66865.734, 71410.28 , 70742.97 , 63860.64 , 60093.316, 57371.062,\n",
       "       55892.547, 71078.445, 64654.34 , 57541.28 , 52870.816, 58789.848],\n",
       "      dtype=float32)"
      ]
     },
     "execution_count": 28,
     "metadata": {},
     "output_type": "execute_result"
    }
   ],
   "source": [
    "yhat1"
   ]
  },
  {
   "cell_type": "code",
   "execution_count": 29,
   "id": "2ca51f2f",
   "metadata": {},
   "outputs": [
    {
     "name": "stdout",
     "output_type": "stream",
     "text": [
      "RMSE :  20022.555896\n"
     ]
    }
   ],
   "source": [
    "# Evaluation\n",
    "from sklearn.metrics import mean_squared_error as MSE\n",
    "rmse = np.sqrt(MSE(y_test, yhat))\n",
    "print(\"RMSE : % f\" %(rmse))"
   ]
  },
  {
   "cell_type": "code",
   "execution_count": 30,
   "id": "3cafecfa",
   "metadata": {},
   "outputs": [
    {
     "data": {
      "image/png": "[encoded data removed]",
      "text/plain": [
       "<Figure size 640x480 with 1 Axes>"
      ]
     },
     "metadata": {},
     "output_type": "display_data"
    }
   ],
   "source": [
    "\n",
    "# Actual vs Predicted\n",
    "plt.plot(y_test.values, label='Original')\n",
    "plt.plot(yhat1, color='red', label='Predicted')\n",
    "plt.legend();\n",
    "     "
   ]
  },
  {
   "cell_type": "code",
   "execution_count": 31,
   "id": "e5b84d1a",
   "metadata": {},
   "outputs": [
    {
     "data": {
      "text/plain": [
       "504    43276.0\n",
       "505    41760.0\n",
       "506    41900.0\n",
       "507    41138.0\n",
       "508    43131.0\n",
       "        ...   \n",
       "667    51133.0\n",
       "668    48887.0\n",
       "669    44828.0\n",
       "670    45039.0\n",
       "671    43859.0\n",
       "Name: power, Length: 168, dtype: float64"
      ]
     },
     "execution_count": 31,
     "metadata": {},
     "output_type": "execute_result"
    }
   ],
   "source": [
    "y_test"
   ]
  },
  {
   "cell_type": "code",
   "execution_count": 32,
   "id": "74165c51",
   "metadata": {},
   "outputs": [
    {
     "data": {
      "text/plain": [
       "array([54956.195, 47825.44 , 47495.45 , 47495.45 , 47495.45 , 46171.824,\n",
       "       45968.656, 53632.57 , 62002.35 , 64538.81 , 64422.5  , 61892.56 ,\n",
       "       66750.38 , 64221.55 , 59104.3  , 58249.152, 55626.74 , 46967.016,\n",
       "       54099.805, 66253.99 , 67319.78 , 56398.016, 50328.11 , 55074.39 ,\n",
       "       55070.375, 48066.5  , 46167.81 , 43838.832, 43789.38 , 43789.38 ,\n",
       "       43789.38 , 52691.945, 60832.734, 65992.15 , 65992.15 , 65992.15 ,\n",
       "       67857.75 , 65247.75 , 60642.098, 55818.37 , 55494.168, 53334.918,\n",
       "       55070.375, 67610.805, 63613.727, 52731.33 , 48009.46 , 52911.89 ,\n",
       "       50603.082, 43752.145, 42113.523, 42123.855, 42123.855, 41647.883,\n",
       "       41977.875, 50438.71 , 55761.94 , 59200.566, 61404.516, 62743.703,\n",
       "       63613.727, 61254.957, 56398.05 , 52691.945, 50380.1  , 48130.23 ,\n",
       "       50187.633, 60872.215, 57158.72 , 51281.082, 50425.934, 53511.266,\n",
       "       45474.15 , 44055.395, 41896.145, 39081.05 , 37182.36 , 37182.36 ,\n",
       "       39081.05 , 39519.8  , 42543.934, 43714.57 , 45066.355, 45076.703,\n",
       "       48325.156, 50190.773, 43348.637, 35458.277, 41288.207, 39422.59 ,\n",
       "       39422.59 , 45946.727, 45076.703, 40056.934, 37387.92 , 44121.402,\n",
       "       42725.516, 36471.09 , 35925.414, 34232.074, 34232.074, 34232.074,\n",
       "       34232.074, 34232.074, 33380.82 , 33475.6  , 36038.965, 38622.746,\n",
       "       40488.363, 38962.383, 36931.227, 39260.215, 39260.215, 39260.215,\n",
       "       36931.227, 36571.42 , 37899.5  , 38190.152, 38947.613, 41260.594,\n",
       "       49752.01 , 46919.35 , 46919.35 , 46919.35 , 46919.35 , 46919.35 ,\n",
       "       46919.35 , 56316.164, 60293.457, 64611.832, 67867.07 , 59925.02 ,\n",
       "       59903.33 , 67509.125, 63201.344, 57056.85 , 52721.508, 52721.508,\n",
       "       56186.83 , 68957.07 , 67295.68 , 52093.324, 49026.23 , 54061.48 ,\n",
       "       51630.58 , 44991.047, 44438.   , 41935.332, 41605.34 , 41605.34 ,\n",
       "       44438.   , 56349.18 , 63077.812, 66887.34 , 64471.305, 64471.305,\n",
       "       66865.734, 71410.28 , 70742.97 , 63860.64 , 60093.316, 57371.062,\n",
       "       55892.547, 71078.445, 64654.34 , 57541.28 , 52870.816, 58789.848],\n",
       "      dtype=float32)"
      ]
     },
     "execution_count": 32,
     "metadata": {},
     "output_type": "execute_result"
    }
   ],
   "source": [
    "yhat1"
   ]
  },
  {
   "cell_type": "code",
   "execution_count": 33,
   "id": "8dea5ee3",
   "metadata": {},
   "outputs": [],
   "source": [
    "pd.DataFrame(yhat1).to_excel(\"Hyper_tuning output.xlsx\", sheet_name=\"sheet 1\")"
   ]
  }
 ],
 "metadata": {
  "kernelspec": {
   "display_name": "Python 3 (ipykernel)",
   "language": "python",
   "name": "python3"
  },
  "language_info": {
   "codemirror_mode": {
    "name": "ipython",
    "version": 3
   },
   "file_extension": ".py",
   "mimetype": "text/x-python",
   "name": "python",
   "nbconvert_exporter": "python",
   "pygments_lexer": "ipython3",
   "version": "3.9.13"
  }
 },
 "nbformat": 4,
 "nbformat_minor": 5
}
